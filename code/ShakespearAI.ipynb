{
  "cells": [
    {
      "cell_type": "markdown",
      "metadata": {
        "id": "JL3ZPJPgC4wC"
      },
      "source": [
        "# ShakespearAI: Generating Shakespearean Text with LSTM Neural Networks\n"
      ]
    },
    {
      "cell_type": "code",
      "execution_count": null,
      "metadata": {
        "id": "Z2xZnxncD2Ep"
      },
      "outputs": [],
      "source": [
        "# Selecting Tensorflow version v2 (the command is relevant for Colab only).\n",
        "# %tensorflow_version 2.x"
      ]
    },
    {
      "cell_type": "code",
      "execution_count": null,
      "metadata": {
        "colab": {
          "base_uri": "https://localhost:8080/"
        },
        "id": "SpueB6zADYgE",
        "outputId": "6dd6cc9b-4345-429f-8e45-0fdc21132b07"
      },
      "outputs": [
        {
          "output_type": "stream",
          "name": "stdout",
          "text": [
            "Python version: 3.10.12\n",
            "Tensorflow version: 2.15.0\n"
          ]
        }
      ],
      "source": [
        "import tensorflow as tf\n",
        "import matplotlib.pyplot as plt\n",
        "import numpy as np\n",
        "import platform\n",
        "import time\n",
        "import pathlib\n",
        "import os\n",
        "\n",
        "print('Python version:', platform.python_version())\n",
        "print('Tensorflow version:', tf.__version__)\n",
        "#print('Keras version:', tf.keras.__version__)"
      ]
    },
    {
      "cell_type": "code",
      "execution_count": null,
      "metadata": {
        "colab": {
          "base_uri": "https://localhost:8080/"
        },
        "id": "Vk2HldshEOph",
        "outputId": "fd27ce2d-444c-4fb4-844d-c6f5012867de"
      },
      "outputs": [
        {
          "output_type": "stream",
          "name": "stdout",
          "text": [
            "Downloading data from https://storage.googleapis.com/download.tensorflow.org/data/shakespeare.txt\n",
            "1115394/1115394 [==============================] - 0s 0us/step\n",
            "/content/tmp/datasets/shakespeare.txt\n"
          ]
        }
      ],
      "source": [
        "cache_dir = './tmp'\n",
        "dataset_file_name = 'shakespeare.txt'\n",
        "dataset_file_origin = 'https://storage.googleapis.com/download.tensorflow.org/data/shakespeare.txt'\n",
        "\n",
        "dataset_file_path = tf.keras.utils.get_file(\n",
        "    fname=dataset_file_name,\n",
        "    origin=dataset_file_origin,\n",
        "    cache_dir=pathlib.Path(cache_dir).absolute()\n",
        ")\n",
        "\n",
        "print(dataset_file_path)"
      ]
    },
    {
      "cell_type": "markdown",
      "metadata": {
        "id": "eKTy6YS5Gx-g"
      },
      "source": [
        "## Analyze the dataset"
      ]
    },
    {
      "cell_type": "code",
      "execution_count": null,
      "metadata": {
        "colab": {
          "base_uri": "https://localhost:8080/"
        },
        "id": "CzfX7hK8G0bn",
        "outputId": "dd8a245b-d059-435f-c074-a141b996f095"
      },
      "outputs": [
        {
          "output_type": "stream",
          "name": "stdout",
          "text": [
            "Length of text: 1115394 characters\n"
          ]
        }
      ],
      "source": [
        "# Reading the database file.\n",
        "text = open(dataset_file_path, mode='r').read()\n",
        "\n",
        "print('Length of text: {} characters'.format(len(text)))"
      ]
    },
    {
      "cell_type": "code",
      "execution_count": null,
      "metadata": {
        "colab": {
          "base_uri": "https://localhost:8080/"
        },
        "id": "nknOAOuoH-Av",
        "outputId": "f9e966f7-ecc9-4dde-d8a9-6d85bc9f44df"
      },
      "outputs": [
        {
          "output_type": "stream",
          "name": "stdout",
          "text": [
            "First Citizen:\n",
            "Before we proceed any further, hear me speak.\n",
            "\n",
            "All:\n",
            "Speak, speak.\n",
            "\n",
            "First Citizen:\n",
            "You are all resolved rather to die than to famish?\n",
            "\n",
            "All:\n",
            "Resolved. resolved.\n",
            "\n",
            "First Citizen:\n",
            "First, you know Caius Marcius is chief enemy to the people.\n",
            "\n"
          ]
        }
      ],
      "source": [
        "# Take a look at the first 250 characters in text.\n",
        "print(text[:250])"
      ]
    },
    {
      "cell_type": "code",
      "execution_count": null,
      "metadata": {
        "colab": {
          "base_uri": "https://localhost:8080/"
        },
        "id": "VPXkB5bOITqi",
        "outputId": "24fdcc11-8124-43f4-f437-8b810e56dc89"
      },
      "outputs": [
        {
          "output_type": "stream",
          "name": "stdout",
          "text": [
            "65 unique characters\n",
            "vocab: ['\\n', ' ', '!', '$', '&', \"'\", ',', '-', '.', '3', ':', ';', '?', 'A', 'B', 'C', 'D', 'E', 'F', 'G', 'H', 'I', 'J', 'K', 'L', 'M', 'N', 'O', 'P', 'Q', 'R', 'S', 'T', 'U', 'V', 'W', 'X', 'Y', 'Z', 'a', 'b', 'c', 'd', 'e', 'f', 'g', 'h', 'i', 'j', 'k', 'l', 'm', 'n', 'o', 'p', 'q', 'r', 's', 't', 'u', 'v', 'w', 'x', 'y', 'z']\n"
          ]
        }
      ],
      "source": [
        "# The unique characters in the file\n",
        "vocab = sorted(set(text))\n",
        "\n",
        "print('{} unique characters'.format(len(vocab)))\n",
        "print('vocab:', vocab)"
      ]
    },
    {
      "cell_type": "markdown",
      "metadata": {
        "id": "GqpuKh9HMNnf"
      },
      "source": [
        "## Process the dataset"
      ]
    },
    {
      "cell_type": "code",
      "execution_count": null,
      "metadata": {
        "colab": {
          "base_uri": "https://localhost:8080/"
        },
        "id": "xFFpuXfGMPq2",
        "outputId": "f3e8fe9c-2487-4ab3-d810-0133482854fd"
      },
      "outputs": [
        {
          "output_type": "stream",
          "name": "stdout",
          "text": [
            "{\n",
            "  '\\n':   0,\n",
            "  ' ' :   1,\n",
            "  '!' :   2,\n",
            "  '$' :   3,\n",
            "  '&' :   4,\n",
            "  \"'\" :   5,\n",
            "  ',' :   6,\n",
            "  '-' :   7,\n",
            "  '.' :   8,\n",
            "  '3' :   9,\n",
            "  ':' :  10,\n",
            "  ';' :  11,\n",
            "  '?' :  12,\n",
            "  'A' :  13,\n",
            "  'B' :  14,\n",
            "  'C' :  15,\n",
            "  'D' :  16,\n",
            "  'E' :  17,\n",
            "  'F' :  18,\n",
            "  'G' :  19,\n",
            "  ...\n",
            "}\n"
          ]
        }
      ],
      "source": [
        "# Map characters to their indices in vocabulary.\n",
        "char2index = {char: index for index, char in enumerate(vocab)}\n",
        "\n",
        "print('{')\n",
        "for char, _ in zip(char2index, range(20)):\n",
        "    print('  {:4s}: {:3d},'.format(repr(char), char2index[char]))\n",
        "print('  ...\\n}')"
      ]
    },
    {
      "cell_type": "code",
      "execution_count": null,
      "metadata": {
        "colab": {
          "base_uri": "https://localhost:8080/"
        },
        "id": "lQB33zI7NkRo",
        "outputId": "dd7faad0-0e04-4a64-a738-088720c8a96e"
      },
      "outputs": [
        {
          "output_type": "stream",
          "name": "stdout",
          "text": [
            "['\\n' ' ' '!' '$' '&' \"'\" ',' '-' '.' '3' ':' ';' '?' 'A' 'B' 'C' 'D' 'E'\n",
            " 'F' 'G' 'H' 'I' 'J' 'K' 'L' 'M' 'N' 'O' 'P' 'Q' 'R' 'S' 'T' 'U' 'V' 'W'\n",
            " 'X' 'Y' 'Z' 'a' 'b' 'c' 'd' 'e' 'f' 'g' 'h' 'i' 'j' 'k' 'l' 'm' 'n' 'o'\n",
            " 'p' 'q' 'r' 's' 't' 'u' 'v' 'w' 'x' 'y' 'z']\n"
          ]
        }
      ],
      "source": [
        "# Map character indices to characters from vacabulary.\n",
        "index2char = np.array(vocab)\n",
        "print(index2char)"
      ]
    },
    {
      "cell_type": "code",
      "execution_count": null,
      "metadata": {
        "colab": {
          "base_uri": "https://localhost:8080/"
        },
        "id": "DXUAlYmvN_Rj",
        "outputId": "494fec66-51e1-46e0-e601-b16ba504b940"
      },
      "outputs": [
        {
          "output_type": "stream",
          "name": "stdout",
          "text": [
            "text_as_int length: 1115394\n",
            "'First Citizen:\\n' --> array([18, 47, 56, 57, 58,  1, 15, 47, 58, 47, 64, 43, 52, 10,  0])\n"
          ]
        }
      ],
      "source": [
        "# Convert chars in text to indices.\n",
        "text_as_int = np.array([char2index[char] for char in text])\n",
        "\n",
        "print('text_as_int length: {}'.format(len(text_as_int)))\n",
        "print('{} --> {}'.format(repr(text[:15]), repr(text_as_int[:15])))"
      ]
    },
    {
      "cell_type": "markdown",
      "metadata": {
        "id": "CHv5HhUuTQYS"
      },
      "source": [
        "## Create training sequences"
      ]
    },
    {
      "cell_type": "code",
      "execution_count": null,
      "metadata": {
        "colab": {
          "base_uri": "https://localhost:8080/"
        },
        "id": "9tHT8IXGTTtZ",
        "outputId": "6c877448-3262-465a-bbe1-9e8b242e085a"
      },
      "outputs": [
        {
          "output_type": "stream",
          "name": "stdout",
          "text": [
            "examples_per_epoch: 11043\n"
          ]
        }
      ],
      "source": [
        "# The maximum length sentence we want for a single input in characters.\n",
        "sequence_length = 100\n",
        "examples_per_epoch = len(text) // (sequence_length + 1)\n",
        "\n",
        "print('examples_per_epoch:', examples_per_epoch)"
      ]
    },
    {
      "cell_type": "code",
      "execution_count": null,
      "metadata": {
        "colab": {
          "base_uri": "https://localhost:8080/"
        },
        "id": "Pf5tMMDnUP3q",
        "outputId": "312a69d9-8665-4af9-dfd4-800a7bdc6599"
      },
      "outputs": [
        {
          "output_type": "stream",
          "name": "stdout",
          "text": [
            "F\n",
            "i\n",
            "r\n",
            "s\n",
            "t\n"
          ]
        }
      ],
      "source": [
        "# Create training dataset.\n",
        "char_dataset = tf.data.Dataset.from_tensor_slices(text_as_int)\n",
        "\n",
        "for char in char_dataset.take(5):\n",
        "    print(index2char[char.numpy()])"
      ]
    },
    {
      "cell_type": "code",
      "execution_count": null,
      "metadata": {
        "colab": {
          "base_uri": "https://localhost:8080/"
        },
        "id": "Ap71VjB2Vuct",
        "outputId": "b505a7c7-b663-43c1-d787-b1069e791ccf"
      },
      "outputs": [
        {
          "output_type": "stream",
          "name": "stdout",
          "text": [
            "Sequences count: 11043\n",
            "\n",
            "'First Citizen:\\nBefore we proceed any further, hear me speak.\\n\\nAll:\\nSpeak, speak.\\n\\nFirst Citizen:\\nYou '\n",
            "'are all resolved rather to die than to famish?\\n\\nAll:\\nResolved. resolved.\\n\\nFirst Citizen:\\nFirst, you k'\n",
            "\"now Caius Marcius is chief enemy to the people.\\n\\nAll:\\nWe know't, we know't.\\n\\nFirst Citizen:\\nLet us ki\"\n",
            "\"ll him, and we'll have corn at our own price.\\nIs't a verdict?\\n\\nAll:\\nNo more talking on't; let it be d\"\n",
            "'one: away, away!\\n\\nSecond Citizen:\\nOne word, good citizens.\\n\\nFirst Citizen:\\nWe are accounted poor citi'\n"
          ]
        }
      ],
      "source": [
        "# Generate batched sequences out of the char_dataset.\n",
        "sequences = char_dataset.batch(sequence_length + 1, drop_remainder=True)\n",
        "\n",
        "# Sequences size is the same as examples_per_epoch.\n",
        "print('Sequences count: {}'.format(len(list(sequences.as_numpy_iterator()))));\n",
        "print()\n",
        "\n",
        "# Sequences examples.\n",
        "for item in sequences.take(5):\n",
        "    print(repr(''.join(index2char[item.numpy()])))"
      ]
    },
    {
      "cell_type": "code",
      "execution_count": null,
      "metadata": {
        "id": "Y8spPCfe-iTn"
      },
      "outputs": [],
      "source": [
        "# sequences shape:\n",
        "# - 11043 sequences\n",
        "# - Each sequence of length 101\n",
        "#\n",
        "#\n",
        "#    101     101          101\n",
        "# [(.....) (.....) ...  (.....)]\n",
        "#\n",
        "# <---------- 11043 ----------->"
      ]
    },
    {
      "cell_type": "markdown",
      "metadata": {
        "id": "HdcrcUs4Xxso"
      },
      "source": [
        "For each sequence, duplicate and shift it to form the input and target text. For example, say `sequence_length` is `4` and our text is `Hello`. The input sequence would be `Hell`, and the target sequence `ello`."
      ]
    },
    {
      "cell_type": "code",
      "execution_count": null,
      "metadata": {
        "id": "9fxvXsP0XFDh"
      },
      "outputs": [],
      "source": [
        "def split_input_target(chunk):\n",
        "    input_text = chunk[:-1]\n",
        "    target_text = chunk[1:]\n",
        "    return input_text, target_text"
      ]
    },
    {
      "cell_type": "code",
      "execution_count": null,
      "metadata": {
        "colab": {
          "base_uri": "https://localhost:8080/"
        },
        "id": "454rWIQYXXRY",
        "outputId": "76c94a75-b98a-4a45-9f3f-1b7d7ba2f197"
      },
      "outputs": [
        {
          "output_type": "stream",
          "name": "stdout",
          "text": [
            "dataset size: 11043\n"
          ]
        }
      ],
      "source": [
        "dataset = sequences.map(split_input_target)\n",
        "\n",
        "# Dataset size is the same as examples_per_epoch.\n",
        "# But each element of a sequence is now has length of `sequence_length`\n",
        "# and not `sequence_length + 1`.\n",
        "print('dataset size: {}'.format(len(list(dataset.as_numpy_iterator()))))"
      ]
    },
    {
      "cell_type": "code",
      "execution_count": null,
      "metadata": {
        "colab": {
          "base_uri": "https://localhost:8080/"
        },
        "id": "Kuoh4tCdYCck",
        "outputId": "c561cab2-c533-45d5-d6ca-bf6134bb3936"
      },
      "outputs": [
        {
          "output_type": "stream",
          "name": "stdout",
          "text": [
            "Input sequence size: 100\n",
            "Target sequence size: 100\n",
            "\n",
            "Input: 'First Citizen:\\nBefore we proceed any further, hear me speak.\\n\\nAll:\\nSpeak, speak.\\n\\nFirst Citizen:\\nYou'\n",
            "Target: 'irst Citizen:\\nBefore we proceed any further, hear me speak.\\n\\nAll:\\nSpeak, speak.\\n\\nFirst Citizen:\\nYou '\n"
          ]
        }
      ],
      "source": [
        "for input_example, target_example in dataset.take(1):\n",
        "    print('Input sequence size:', repr(len(input_example.numpy())))\n",
        "    print('Target sequence size:', repr(len(target_example.numpy())))\n",
        "    print()\n",
        "    print('Input:', repr(''.join(index2char[input_example.numpy()])))\n",
        "    print('Target:', repr(''.join(index2char[target_example.numpy()])))"
      ]
    },
    {
      "cell_type": "code",
      "execution_count": null,
      "metadata": {
        "id": "cp0tl0sN807l"
      },
      "outputs": [],
      "source": [
        "# dataset shape:\n",
        "# - 11043 sequences\n",
        "# - Each sequence is a tuple of 2 sub-sequences of length 100 (input_text and target_text)\n",
        "#\n",
        "#\n",
        "#    100       100           100\n",
        "# /(.....)\\ /(.....)\\ ... /(.....)\\  <-- input_text\n",
        "# \\(.....)/ \\(.....)/     \\(.....)/  <-- target_text\n",
        "#\n",
        "# <----------- 11043 ------------->"
      ]
    },
    {
      "cell_type": "markdown",
      "metadata": {
        "id": "BDYHEJ0pY1ai"
      },
      "source": [
        "Each index of these vectors are processed as one time step. For the input at time step 0, the model receives the index for \"F\" and trys to predict the index for \"i\" as the next character. At the next timestep, it does the same thing but the RNN considers the previous step context in addition to the current input character."
      ]
    },
    {
      "cell_type": "code",
      "execution_count": null,
      "metadata": {
        "colab": {
          "base_uri": "https://localhost:8080/"
        },
        "id": "C-0zpv53Y2o4",
        "outputId": "48fa5c2a-c959-4471-b062-45ee534ebf92"
      },
      "outputs": [
        {
          "output_type": "stream",
          "name": "stdout",
          "text": [
            "Step  0\n",
            "  input: 18 ('F')\n",
            "  expected output: 47 ('i')\n",
            "Step  1\n",
            "  input: 47 ('i')\n",
            "  expected output: 56 ('r')\n",
            "Step  2\n",
            "  input: 56 ('r')\n",
            "  expected output: 57 ('s')\n",
            "Step  3\n",
            "  input: 57 ('s')\n",
            "  expected output: 58 ('t')\n",
            "Step  4\n",
            "  input: 58 ('t')\n",
            "  expected output: 1 (' ')\n"
          ]
        }
      ],
      "source": [
        "for i, (input_idx, target_idx) in enumerate(zip(input_example[:5], target_example[:5])):\n",
        "    print('Step {:2d}'.format(i))\n",
        "    print('  input: {} ({:s})'.format(input_idx, repr(index2char[input_idx])))\n",
        "    print('  expected output: {} ({:s})'.format(target_idx, repr(index2char[target_idx])))"
      ]
    },
    {
      "cell_type": "code",
      "execution_count": null,
      "metadata": {
        "colab": {
          "base_uri": "https://localhost:8080/"
        },
        "id": "eDq-wa5EC3wW",
        "outputId": "434d0a22-9524-4cab-cb73-995987cf9912"
      },
      "outputs": [
        {
          "output_type": "execute_result",
          "data": {
            "text/plain": [
              "<_BatchDataset element_spec=(TensorSpec(shape=(64, 100), dtype=tf.int64, name=None), TensorSpec(shape=(64, 100), dtype=tf.int64, name=None))>"
            ]
          },
          "metadata": {},
          "execution_count": 72
        }
      ],
      "source": [
        "# Batch size.\n",
        "BATCH_SIZE = 64\n",
        "\n",
        "# Buffer size to shuffle the dataset (TF data is designed to work\n",
        "# with possibly infinite sequences, so it doesn't attempt to shuffle\n",
        "# the entire sequence in memory. Instead, it maintains a buffer in\n",
        "# which it shuffles elements).\n",
        "BUFFER_SIZE = 10000\n",
        "\n",
        "dataset = dataset.shuffle(BUFFER_SIZE).batch(BATCH_SIZE, drop_remainder=True)\n",
        "\n",
        "dataset"
      ]
    },
    {
      "cell_type": "code",
      "execution_count": null,
      "metadata": {
        "colab": {
          "base_uri": "https://localhost:8080/"
        },
        "id": "1x4puZiiOlyl",
        "outputId": "33518152-a384-45b1-fe3c-fb76dafd3f32"
      },
      "outputs": [
        {
          "output_type": "stream",
          "name": "stdout",
          "text": [
            "Batched dataset size: 172\n"
          ]
        }
      ],
      "source": [
        "print('Batched dataset size: {}'.format(len(list(dataset.as_numpy_iterator()))))"
      ]
    },
    {
      "cell_type": "code",
      "execution_count": null,
      "metadata": {
        "colab": {
          "base_uri": "https://localhost:8080/"
        },
        "id": "b_kYgvQGBO0U",
        "outputId": "4ba2de2e-688c-45cd-d156-5e9314051cbe"
      },
      "outputs": [
        {
          "output_type": "stream",
          "name": "stdout",
          "text": [
            "1st batch: input_text: tf.Tensor(\n",
            "[[ 1 57 43 ... 56 57 58]\n",
            " [ 1 58 53 ... 56 50 42]\n",
            " [58 43 50 ... 56  1 51]\n",
            " ...\n",
            " [50  1 57 ... 43  1 39]\n",
            " [52 57 58 ... 53 44  1]\n",
            " [46 47 51 ...  1 40 43]], shape=(64, 100), dtype=int64)\n",
            "\n",
            "1st batch: target_text: tf.Tensor(\n",
            "[[57 43 43 ... 57 58  1]\n",
            " [58 53  1 ... 50 42  8]\n",
            " [43 50 50 ...  1 51 63]\n",
            " ...\n",
            " [ 1 57 58 ...  1 39 50]\n",
            " [57 58 56 ... 44  1 46]\n",
            " [47 51  1 ... 40 43  1]], shape=(64, 100), dtype=int64)\n"
          ]
        }
      ],
      "source": [
        "for input_text, target_text in dataset.take(1):\n",
        "    print('1st batch: input_text:', input_text)\n",
        "    print()\n",
        "    print('1st batch: target_text:', target_text)"
      ]
    },
    {
      "cell_type": "code",
      "execution_count": null,
      "metadata": {
        "id": "UkDCH15v_2I6"
      },
      "outputs": [],
      "source": [
        "# dataset shape:\n",
        "# - 172 batches\n",
        "# - 64 sequences per batch\n",
        "# - Each sequence is a tuple of 2 sub-sequences of length 100 (input_text and target_text)\n",
        "#\n",
        "#\n",
        "#     100       100           100             100       100           100\n",
        "# |/(.....)\\ /(.....)\\ ... /(.....)\\| ... |/(.....)\\ /(.....)\\ ... /(.....)\\|  <-- input_text\n",
        "# |\\(.....)/ \\(.....)/     \\(.....)/| ... |\\(.....)/ \\(.....)/     \\(.....)/|  <-- target_text\n",
        "#\n",
        "# <------------- 64 ---------------->     <------------- 64 ---------------->\n",
        "#\n",
        "# <--------------------------------- 172 ----------------------------------->"
      ]
    },
    {
      "cell_type": "code",
      "execution_count": null,
      "metadata": {
        "colab": {
          "base_uri": "https://localhost:8080/"
        },
        "id": "0cg8DlO3QjuT",
        "outputId": "852b811d-5db5-47c5-a1ee-e03a1ba38607"
      },
      "outputs": [
        {
          "output_type": "stream",
          "name": "stdout",
          "text": [
            "1/1 [==============================] - 0s 63ms/step\n",
            "tmp_input_array shape: (2, 8)\n",
            "tmp_input_array:\n",
            "[[8 3 6 2 6 9 8 1]\n",
            " [6 8 0 7 5 1 6 4]]\n",
            "\n",
            "tmp_output_array shape: (2, 8, 5)\n",
            "tmp_output_array:\n",
            "[[[-0.03257177 -0.03217425 -0.02686728 -0.02501801 -0.03126206]\n",
            "  [-0.03753127 -0.00142755  0.0116485   0.02486709  0.01870188]\n",
            "  [-0.01175161 -0.03787459  0.01203793  0.0444162  -0.01356381]\n",
            "  [-0.04079773 -0.00561372 -0.0395715  -0.03764707 -0.03383026]\n",
            "  [-0.01175161 -0.03787459  0.01203793  0.0444162  -0.01356381]\n",
            "  [ 0.03816978  0.02030864 -0.02940527  0.02093622  0.00437369]\n",
            "  [-0.03257177 -0.03217425 -0.02686728 -0.02501801 -0.03126206]\n",
            "  [ 0.04472369 -0.01893893 -0.03958858  0.02353397  0.02101963]]\n",
            "\n",
            " [[-0.01175161 -0.03787459  0.01203793  0.0444162  -0.01356381]\n",
            "  [-0.03257177 -0.03217425 -0.02686728 -0.02501801 -0.03126206]\n",
            "  [ 0.02613337  0.0248947   0.02847043  0.01872287 -0.03068615]\n",
            "  [-0.00288795 -0.04849866  0.00260564 -0.02980711  0.026671  ]\n",
            "  [-0.02857152  0.03761658 -0.03617198  0.0144772  -0.01009569]\n",
            "  [ 0.04472369 -0.01893893 -0.03958858  0.02353397  0.02101963]\n",
            "  [-0.01175161 -0.03787459  0.01203793  0.0444162  -0.01356381]\n",
            "  [ 0.01724224 -0.00625648  0.01195744 -0.01474694 -0.03421818]]]\n"
          ]
        }
      ],
      "source": [
        "# Let's do a quick detour and see how Embeding layer works.\n",
        "# It takes several char indices sequences (batch) as an input.\n",
        "# It encodes every character of every sequence to a vector of tmp_embeding_size length.\n",
        "tmp_vocab_size = 10\n",
        "tmp_embeding_size = 5\n",
        "tmp_input_length = 8\n",
        "tmp_batch_size = 2\n",
        "\n",
        "tmp_model = tf.keras.models.Sequential()\n",
        "tmp_model.add(tf.keras.layers.Embedding(\n",
        "  input_dim=tmp_vocab_size,\n",
        "  output_dim=tmp_embeding_size,\n",
        "  input_length=tmp_input_length\n",
        "))\n",
        "# The model will take as input an integer matrix of size (batch, input_length).\n",
        "# The largest integer (i.e. word index) in the input should be no larger than 9 (tmp_vocab_size).\n",
        "# Now model.output_shape == (None, 10, 64), where None is the batch dimension.\n",
        "tmp_input_array = np.random.randint(\n",
        "  low=0,\n",
        "  high=tmp_vocab_size,\n",
        "  size=(tmp_batch_size, tmp_input_length)\n",
        ")\n",
        "tmp_model.compile('rmsprop', 'mse')\n",
        "tmp_output_array = tmp_model.predict(tmp_input_array)\n",
        "\n",
        "print('tmp_input_array shape:', tmp_input_array.shape)\n",
        "print('tmp_input_array:')\n",
        "print(tmp_input_array)\n",
        "print()\n",
        "print('tmp_output_array shape:', tmp_output_array.shape)\n",
        "print('tmp_output_array:')\n",
        "print(tmp_output_array)"
      ]
    },
    {
      "cell_type": "code",
      "execution_count": null,
      "metadata": {
        "id": "I7ZuvZHBD_pS"
      },
      "outputs": [],
      "source": [
        "# Length of the vocabulary in chars.\n",
        "vocab_size = len(vocab)\n",
        "\n",
        "# The embedding dimension.\n",
        "embedding_dim = 256\n",
        "\n",
        "# Number of RNN units.\n",
        "rnn_units = 1024"
      ]
    },
    {
      "cell_type": "code",
      "execution_count": null,
      "metadata": {
        "id": "-sojdDCAICWO"
      },
      "outputs": [],
      "source": [
        "def build_model(vocab_size, embedding_dim, rnn_units, batch_size):\n",
        "    model = tf.keras.models.Sequential()\n",
        "\n",
        "    model.add(tf.keras.layers.Embedding(\n",
        "      input_dim=vocab_size,\n",
        "      output_dim=embedding_dim,\n",
        "      batch_input_shape=[batch_size, None]\n",
        "    ))\n",
        "\n",
        "    model.add(tf.keras.layers.LSTM(\n",
        "      units=rnn_units,\n",
        "      return_sequences=True,\n",
        "      stateful=True,\n",
        "      recurrent_initializer=tf.keras.initializers.GlorotNormal()\n",
        "    ))\n",
        "\n",
        "    model.add(tf.keras.layers.Dense(vocab_size))\n",
        "\n",
        "    return model"
      ]
    },
    {
      "cell_type": "code",
      "execution_count": null,
      "metadata": {
        "id": "XoPwxyAPEg6z"
      },
      "outputs": [],
      "source": [
        "model = build_model(vocab_size, embedding_dim, rnn_units, BATCH_SIZE)"
      ]
    },
    {
      "cell_type": "code",
      "execution_count": null,
      "metadata": {
        "colab": {
          "base_uri": "https://localhost:8080/"
        },
        "id": "iLnlZFgU55bQ",
        "outputId": "e650ce3d-d1b7-4287-a58a-eae5b8800cba"
      },
      "outputs": [
        {
          "output_type": "stream",
          "name": "stdout",
          "text": [
            "Model: \"sequential_4\"\n",
            "_________________________________________________________________\n",
            " Layer (type)                Output Shape              Param #   \n",
            "=================================================================\n",
            " embedding_4 (Embedding)     (64, None, 256)           16640     \n",
            "                                                                 \n",
            " lstm_2 (LSTM)               (64, None, 1024)          5246976   \n",
            "                                                                 \n",
            " dense_2 (Dense)             (64, None, 65)            66625     \n",
            "                                                                 \n",
            "=================================================================\n",
            "Total params: 5330241 (20.33 MB)\n",
            "Trainable params: 5330241 (20.33 MB)\n",
            "Non-trainable params: 0 (0.00 Byte)\n",
            "_________________________________________________________________\n"
          ]
        }
      ],
      "source": [
        "model.summary()"
      ]
    },
    {
      "cell_type": "code",
      "execution_count": null,
      "metadata": {
        "colab": {
          "base_uri": "https://localhost:8080/",
          "height": 422
        },
        "id": "CcaO_rO_8-GH",
        "outputId": "49326397-0fb8-4aae-8959-d08ed57fb5a0"
      },
      "outputs": [
        {
          "output_type": "execute_result",
          "data": {
            "image/png": "[encoded data removed]",
            "text/plain": [
              "<IPython.core.display.Image object>"
            ]
          },
          "metadata": {},
          "execution_count": 81
        }
      ],
      "source": [
        "tf.keras.utils.plot_model(\n",
        "    model,\n",
        "    show_shapes=True,\n",
        "    show_layer_names=True,\n",
        ")"
      ]
    },
    {
      "cell_type": "markdown",
      "metadata": {
        "id": "Npruiy2RAPkt"
      },
      "source": [
        "## Try the model"
      ]
    },
    {
      "cell_type": "code",
      "execution_count": null,
      "metadata": {
        "colab": {
          "base_uri": "https://localhost:8080/"
        },
        "id": "E4DCLA0GASL1",
        "outputId": "0cdfd077-9b8b-438d-dce2-58c9d1ee9252"
      },
      "outputs": [
        {
          "output_type": "stream",
          "name": "stdout",
          "text": [
            "(64, 100, 65) # (batch_size, sequence_length, vocab_size)\n"
          ]
        }
      ],
      "source": [
        "for input_example_batch, target_example_batch in dataset.take(1):\n",
        "    example_batch_predictions = model(input_example_batch)\n",
        "    print(example_batch_predictions.shape, \"# (batch_size, sequence_length, vocab_size)\")\n"
      ]
    },
    {
      "cell_type": "markdown",
      "metadata": {
        "id": "MWebJXU9CEPd"
      },
      "source": [
        "To get actual predictions from the model we need to sample from the output distribution, to get actual character indices. This distribution is defined by the logits over the character vocabulary."
      ]
    },
    {
      "cell_type": "code",
      "execution_count": null,
      "metadata": {
        "colab": {
          "base_uri": "https://localhost:8080/"
        },
        "id": "Y4Jgo-iECFWI",
        "outputId": "a9dc3920-343f-4944-a66c-3cf3d06261ce"
      },
      "outputs": [
        {
          "output_type": "stream",
          "name": "stdout",
          "text": [
            "Prediction for the 1st letter of the batch 1st sequense:\n",
            "tf.Tensor(\n",
            "[-7.6669641e-04  7.9291593e-04 -1.1729788e-03 -9.9864160e-04\n",
            " -4.4355225e-03 -3.3488909e-03  4.3802299e-03 -2.5919287e-03\n",
            "  3.6530152e-03 -2.0309675e-03 -9.8053046e-05 -1.3692812e-03\n",
            " -1.3837118e-03 -1.3538881e-03 -1.5216910e-03  5.4035550e-03\n",
            " -7.9655368e-04 -4.3249186e-03  9.0421201e-04  1.6895588e-04\n",
            " -1.6096220e-03  1.2634846e-03  2.0171597e-03  9.6815289e-05\n",
            "  3.5917857e-03 -1.2590059e-03  3.5282103e-03 -3.5128300e-03\n",
            " -1.8994340e-03  1.0389064e-03  1.7952831e-03  3.1177946e-03\n",
            "  3.4258699e-03 -4.4107102e-03  2.9226241e-03 -5.3197215e-04\n",
            "  1.3521335e-03 -4.6822005e-03  9.4971694e-03  6.4896178e-03\n",
            " -2.7934040e-03 -4.9372213e-03  1.5592754e-03  2.1247400e-03\n",
            "  8.3771432e-03 -4.7075506e-03  7.3184697e-03 -7.6580897e-04\n",
            " -8.8230940e-04 -1.6935484e-03 -7.2018045e-04 -1.3341815e-03\n",
            " -3.9298199e-03 -4.6592602e-03 -5.4474408e-04  1.9385528e-03\n",
            " -2.0884334e-03  6.4407277e-04 -2.8360726e-03 -4.7818511e-03\n",
            " -9.4040763e-05 -1.0362023e-03  1.4961849e-04 -5.3037070e-03\n",
            "  7.3457567e-04], shape=(65,), dtype=float32)\n"
          ]
        }
      ],
      "source": [
        "print('Prediction for the 1st letter of the batch 1st sequense:')\n",
        "print(example_batch_predictions[0, 0])"
      ]
    },
    {
      "cell_type": "code",
      "execution_count": null,
      "metadata": {
        "colab": {
          "base_uri": "https://localhost:8080/"
        },
        "id": "0dOr0MwFHlRb",
        "outputId": "ca5258ec-05c9-42cb-fca6-70f60be9ea11"
      },
      "outputs": [
        {
          "output_type": "stream",
          "name": "stdout",
          "text": [
            "tf.Tensor([[0 1 1 2 0]], shape=(1, 5), dtype=int64)\n"
          ]
        }
      ],
      "source": [
        "# Quick overview of how tf.random.categorical() works.\n",
        "\n",
        "# logits is 2-D Tensor with shape [batch_size, num_classes].\n",
        "# Each slice [i, :] represents the unnormalized log-probabilities for all classes.\n",
        "# In the example below we say that the probability for class \"0\" is low but the\n",
        "# probability for class \"2\" is much higher.\n",
        "tmp_logits = [\n",
        "  [-0.95, 0, 0.95],\n",
        "];\n",
        "\n",
        "# Let's generate 5 samples. Each sample is a class index. Class probabilities\n",
        "# are being taken into account (we expect to see more samples of class \"2\").\n",
        "tmp_samples = tf.random.categorical(\n",
        "    logits=tmp_logits,\n",
        "    num_samples=5\n",
        ")\n",
        "\n",
        "print(tmp_samples)"
      ]
    },
    {
      "cell_type": "code",
      "execution_count": null,
      "metadata": {
        "colab": {
          "base_uri": "https://localhost:8080/"
        },
        "id": "JPzr0r4zCgS3",
        "outputId": "0ffdf35d-ce50-40d0-a94d-e7ec6aeb8fc2"
      },
      "outputs": [
        {
          "output_type": "execute_result",
          "data": {
            "text/plain": [
              "TensorShape([100, 1])"
            ]
          },
          "metadata": {},
          "execution_count": 85
        }
      ],
      "source": [
        "sampled_indices = tf.random.categorical(\n",
        "    logits=example_batch_predictions[0],\n",
        "    num_samples=1\n",
        ")\n",
        "\n",
        "sampled_indices.shape"
      ]
    },
    {
      "cell_type": "code",
      "execution_count": null,
      "metadata": {
        "colab": {
          "base_uri": "https://localhost:8080/"
        },
        "id": "YaA7DclID8dz",
        "outputId": "b639b5fc-e5cd-4cc6-c0d1-0221c52ceabe"
      },
      "outputs": [
        {
          "output_type": "execute_result",
          "data": {
            "text/plain": [
              "(100,)"
            ]
          },
          "metadata": {},
          "execution_count": 86
        }
      ],
      "source": [
        "sampled_indices = tf.squeeze(\n",
        "    input=sampled_indices,\n",
        "    axis=-1\n",
        ").numpy()\n",
        "\n",
        "sampled_indices.shape"
      ]
    },
    {
      "cell_type": "code",
      "execution_count": null,
      "metadata": {
        "colab": {
          "base_uri": "https://localhost:8080/"
        },
        "id": "_ubGQ0gVENhB",
        "outputId": "8d7c3d89-a913-4e02-96ad-98f66d391daa"
      },
      "outputs": [
        {
          "output_type": "execute_result",
          "data": {
            "text/plain": [
              "array([13, 12, 53, 62, 21, 40, 52, 19, 34, 42, 30, 30, 63, 34, 42, 40, 27,\n",
              "       31, 18,  5,  9, 34, 12, 38, 59, 29, 41, 53, 58, 13, 36,  3, 52, 49,\n",
              "       62, 48, 23, 51,  7, 58, 30, 35,  2, 20, 40, 45, 16, 26,  0, 30, 21,\n",
              "       54, 51, 28, 58, 36, 36, 29, 32, 13, 28,  7, 58, 26, 51, 52, 29, 40,\n",
              "       64, 33, 64, 22, 32, 59,  3,  2, 56, 38,  5, 29, 32, 48,  0, 49, 64,\n",
              "       19, 46, 30, 21, 10,  4, 34, 14, 37, 61, 59, 32,  3, 18, 42])"
            ]
          },
          "metadata": {},
          "execution_count": 87
        }
      ],
      "source": [
        "sampled_indices"
      ]
    },
    {
      "cell_type": "code",
      "execution_count": null,
      "metadata": {
        "colab": {
          "base_uri": "https://localhost:8080/"
        },
        "id": "Gi9HOzw9EajS",
        "outputId": "71cabea6-9cd0-4fae-abc1-7d9540234446"
      },
      "outputs": [
        {
          "output_type": "stream",
          "name": "stdout",
          "text": [
            "Input:\n",
            " \"urage and in judgment\\nThat they'll take no offence at our abuse.\\n\\nKING EDWARD IV:\\nSuppose they take \"\n",
            "\n",
            "Next char prediction:\n",
            " \"A?oxIbnGVdRRyVdbOSF'3V?ZuQcotAX$nkxjKm-tRW!HbgDN\\nRIpmPtXXQTAP-tNmnQbzUzJTu$!rZ'QTj\\nkzGhRI:&VBYwuT$Fd\"\n"
          ]
        }
      ],
      "source": [
        "print('Input:\\n', repr(''.join(index2char[input_example_batch[0]])))\n",
        "print()\n",
        "print('Next char prediction:\\n', repr(''.join(index2char[sampled_indices])))"
      ]
    },
    {
      "cell_type": "code",
      "execution_count": null,
      "metadata": {
        "colab": {
          "base_uri": "https://localhost:8080/"
        },
        "id": "b87e0lsYMTsv",
        "outputId": "ad753b42-aa17-4adb-e5ad-4c847387d419"
      },
      "outputs": [
        {
          "output_type": "stream",
          "name": "stdout",
          "text": [
            "Prediction  0\n",
            "  input: 59 ('u')\n",
            "  next predicted: 1 ('A')\n",
            "Prediction  1\n",
            "  input: 56 ('r')\n",
            "  next predicted: 1 ('?')\n",
            "Prediction  2\n",
            "  input: 39 ('a')\n",
            "  next predicted: 1 ('o')\n",
            "Prediction  3\n",
            "  input: 45 ('g')\n",
            "  next predicted: 1 ('x')\n",
            "Prediction  4\n",
            "  input: 43 ('e')\n",
            "  next predicted: 1 ('I')\n"
          ]
        }
      ],
      "source": [
        "for i, (input_idx, sample_idx) in enumerate(zip(input_example_batch[0][:5], sampled_indices[:5])):\n",
        "    print('Prediction {:2d}'.format(i))\n",
        "    print('  input: {} ({:s})'.format(input_idx, repr(index2char[input_idx])))\n",
        "    print('  next predicted: {} ({:s})'.format(target_idx, repr(index2char[sample_idx])))"
      ]
    },
    {
      "cell_type": "markdown",
      "metadata": {
        "id": "l4s0-PvrFub5"
      },
      "source": [
        "### Attach an optimizer, and a loss function"
      ]
    },
    {
      "cell_type": "code",
      "execution_count": null,
      "metadata": {
        "colab": {
          "base_uri": "https://localhost:8080/"
        },
        "id": "UOEUUm6JE95a",
        "outputId": "48ea5c89-c621-4d5b-fcc8-1104914c9071"
      },
      "outputs": [
        {
          "output_type": "stream",
          "name": "stdout",
          "text": [
            "Prediction shape:  (64, 100, 65)  # (batch_size, sequence_length, vocab_size)\n",
            "scalar_loss:       4.174452\n"
          ]
        }
      ],
      "source": [
        "# An objective function.\n",
        "# The function is any callable with the signature scalar_loss = fn(y_true, y_pred).\n",
        "def loss(labels, logits):\n",
        "    return tf.keras.losses.sparse_categorical_crossentropy(\n",
        "      y_true=labels,\n",
        "      y_pred=logits,\n",
        "      from_logits=True\n",
        "    )\n",
        "\n",
        "example_batch_loss = loss(target_example_batch, example_batch_predictions)\n",
        "\n",
        "print(\"Prediction shape: \", example_batch_predictions.shape, \" # (batch_size, sequence_length, vocab_size)\")\n",
        "print(\"scalar_loss:      \", example_batch_loss.numpy().mean())"
      ]
    },
    {
      "cell_type": "code",
      "execution_count": null,
      "metadata": {
        "id": "SXhJsB6eFgrJ"
      },
      "outputs": [],
      "source": [
        "adam_optimizer = tf.keras.optimizers.Adam(learning_rate=0.001)\n",
        "model.compile(\n",
        "    optimizer=adam_optimizer,\n",
        "    loss=loss,\n",
        "    metrics=['acc']\n",
        ")"
      ]
    },
    {
      "cell_type": "markdown",
      "metadata": {
        "id": "MK3Cf-xZFwL4"
      },
      "source": [
        "### Configure checkpoints"
      ]
    },
    {
      "cell_type": "code",
      "execution_count": null,
      "metadata": {
        "id": "LUhXnHPJFy5q"
      },
      "outputs": [],
      "source": [
        "# Directory where the checkpoints will be saved.\n",
        "checkpoint_dir = 'tmp/checkpoints'\n",
        "os.makedirs(checkpoint_dir, exist_ok=True)\n",
        "\n",
        "# Name of the checkpoint files\n",
        "checkpoint_prefix = os.path.join(checkpoint_dir, 'ckpt_{epoch}')\n",
        "\n",
        "checkpoint_callback=tf.keras.callbacks.ModelCheckpoint(\n",
        "    filepath=checkpoint_prefix,\n",
        "    save_weights_only=True\n",
        ")"
      ]
    },
    {
      "cell_type": "markdown",
      "metadata": {
        "id": "oFg9MFJoGZWf"
      },
      "source": [
        "### Execute the training"
      ]
    },
    {
      "cell_type": "code",
      "execution_count": null,
      "metadata": {
        "id": "AVk-pARPGaja"
      },
      "outputs": [],
      "source": [
        "EPOCHS=40"
      ]
    },
    {
      "cell_type": "code",
      "execution_count": null,
      "metadata": {
        "colab": {
          "base_uri": "https://localhost:8080/"
        },
        "id": "y0rveBdAGeEz",
        "outputId": "8eaab551-7d52-4400-856a-aef5c418f23d"
      },
      "outputs": [
        {
          "output_type": "stream",
          "name": "stdout",
          "text": [
            "Epoch 1/40\n",
            "172/172 [==============================] - 17s 75ms/step - loss: 2.5779 - acc: 0.2906\n",
            "Epoch 2/40\n",
            "172/172 [==============================] - 15s 75ms/step - loss: 1.8672 - acc: 0.4525\n",
            "Epoch 3/40\n",
            "172/172 [==============================] - 15s 72ms/step - loss: 1.6217 - acc: 0.5188\n",
            "Epoch 4/40\n",
            "172/172 [==============================] - 14s 69ms/step - loss: 1.4924 - acc: 0.5530\n",
            "Epoch 5/40\n",
            "172/172 [==============================] - 14s 70ms/step - loss: 1.4140 - acc: 0.5729\n",
            "Epoch 6/40\n",
            "172/172 [==============================] - 14s 72ms/step - loss: 1.3589 - acc: 0.5864\n",
            "Epoch 7/40\n",
            "172/172 [==============================] - 15s 71ms/step - loss: 1.3140 - acc: 0.5981\n",
            "Epoch 8/40\n",
            "172/172 [==============================] - 14s 72ms/step - loss: 1.2757 - acc: 0.6087\n",
            "Epoch 9/40\n",
            "172/172 [==============================] - 14s 71ms/step - loss: 1.2397 - acc: 0.6183\n",
            "Epoch 10/40\n",
            "172/172 [==============================] - 14s 71ms/step - loss: 1.2032 - acc: 0.6290\n",
            "Epoch 11/40\n",
            "172/172 [==============================] - 14s 71ms/step - loss: 1.1666 - acc: 0.6399\n",
            "Epoch 12/40\n",
            "172/172 [==============================] - 14s 71ms/step - loss: 1.1294 - acc: 0.6515\n",
            "Epoch 13/40\n",
            "172/172 [==============================] - 14s 70ms/step - loss: 1.0904 - acc: 0.6640\n",
            "Epoch 14/40\n",
            "172/172 [==============================] - 14s 72ms/step - loss: 1.0492 - acc: 0.6776\n",
            "Epoch 15/40\n",
            "172/172 [==============================] - 15s 73ms/step - loss: 1.0080 - acc: 0.6917\n",
            "Epoch 16/40\n",
            "172/172 [==============================] - 14s 73ms/step - loss: 0.9666 - acc: 0.7058\n",
            "Epoch 17/40\n",
            "172/172 [==============================] - 14s 71ms/step - loss: 0.9245 - acc: 0.7210\n",
            "Epoch 18/40\n",
            "172/172 [==============================] - 14s 69ms/step - loss: 0.8836 - acc: 0.7358\n",
            "Epoch 19/40\n",
            "172/172 [==============================] - 14s 72ms/step - loss: 0.8421 - acc: 0.7515\n",
            "Epoch 20/40\n",
            "172/172 [==============================] - 15s 71ms/step - loss: 0.8046 - acc: 0.7651\n",
            "Epoch 21/40\n",
            "172/172 [==============================] - 14s 73ms/step - loss: 0.7688 - acc: 0.7788\n",
            "Epoch 22/40\n",
            "172/172 [==============================] - 14s 71ms/step - loss: 0.7356 - acc: 0.7913\n",
            "Epoch 23/40\n",
            "172/172 [==============================] - 14s 72ms/step - loss: 0.7042 - acc: 0.8027\n",
            "Epoch 24/40\n",
            "172/172 [==============================] - 14s 71ms/step - loss: 0.6770 - acc: 0.8133\n",
            "Epoch 25/40\n",
            "172/172 [==============================] - 14s 71ms/step - loss: 0.6518 - acc: 0.8227\n",
            "Epoch 26/40\n",
            "172/172 [==============================] - 14s 71ms/step - loss: 0.6285 - acc: 0.8317\n",
            "Epoch 27/40\n",
            "172/172 [==============================] - 14s 71ms/step - loss: 0.6073 - acc: 0.8395\n",
            "Epoch 28/40\n",
            "172/172 [==============================] - 14s 72ms/step - loss: 0.5877 - acc: 0.8466\n",
            "Epoch 29/40\n",
            "172/172 [==============================] - 14s 71ms/step - loss: 0.5705 - acc: 0.8538\n",
            "Epoch 30/40\n",
            "172/172 [==============================] - 14s 71ms/step - loss: 0.5573 - acc: 0.8585\n",
            "Epoch 31/40\n",
            "172/172 [==============================] - 15s 71ms/step - loss: 0.5419 - acc: 0.8638\n",
            "Epoch 32/40\n",
            "172/172 [==============================] - 14s 73ms/step - loss: 0.5295 - acc: 0.8685\n",
            "Epoch 33/40\n",
            "172/172 [==============================] - 14s 72ms/step - loss: 0.5156 - acc: 0.8739\n",
            "Epoch 34/40\n",
            "172/172 [==============================] - 14s 71ms/step - loss: 0.5080 - acc: 0.8762\n",
            "Epoch 35/40\n",
            "172/172 [==============================] - 14s 69ms/step - loss: 0.4986 - acc: 0.8798\n",
            "Epoch 36/40\n",
            "172/172 [==============================] - 14s 72ms/step - loss: 0.4885 - acc: 0.8829\n",
            "Epoch 37/40\n",
            "172/172 [==============================] - 14s 73ms/step - loss: 0.4822 - acc: 0.8855\n",
            "Epoch 38/40\n",
            "172/172 [==============================] - 14s 72ms/step - loss: 0.4744 - acc: 0.8881\n",
            "Epoch 39/40\n",
            "172/172 [==============================] - 14s 71ms/step - loss: 0.4666 - acc: 0.8911\n",
            "Epoch 40/40\n",
            "172/172 [==============================] - 14s 70ms/step - loss: 0.4628 - acc: 0.8924\n"
          ]
        }
      ],
      "source": [
        "history = model.fit(\n",
        "  x=dataset,\n",
        "  epochs=EPOCHS,\n",
        "  callbacks=[\n",
        "    checkpoint_callback\n",
        "  ]\n",
        ")"
      ]
    },
    {
      "cell_type": "code",
      "execution_count": null,
      "metadata": {
        "id": "mLdnOyvzMggJ"
      },
      "outputs": [],
      "source": [
        "def render_training_history(training_history):\n",
        "    loss = training_history.history['loss']\n",
        "    plt.title('Loss')\n",
        "    plt.xlabel('Epoch')\n",
        "    plt.ylabel('Loss')\n",
        "    plt.plot(loss, label='Training set')\n",
        "    plt.legend()\n",
        "    plt.grid(linestyle='--', linewidth=1, alpha=0.5)\n",
        "    plt.show()"
      ]
    },
    {
      "cell_type": "code",
      "execution_count": null,
      "metadata": {
        "colab": {
          "base_uri": "https://localhost:8080/",
          "height": 472
        },
        "id": "4Ghveem_OQBV",
        "outputId": "0367a31d-5555-4cfe-8495-143e9300e378"
      },
      "outputs": [
        {
          "output_type": "display_data",
          "data": {
            "text/plain": [
              "<Figure size 640x480 with 1 Axes>"
            ],
            "image/png": "[encoded data removed]"
          },
          "metadata": {}
        }
      ],
      "source": [
        "render_training_history(history)"
      ]
    },
    {
      "cell_type": "markdown",
      "metadata": {
        "id": "X-dhNP2OG2EM"
      },
      "source": [
        "## Generate text"
      ]
    },
    {
      "cell_type": "code",
      "execution_count": null,
      "metadata": {
        "colab": {
          "base_uri": "https://localhost:8080/",
          "height": 35
        },
        "id": "BlG8o3wiG6f2",
        "outputId": "62423172-fd3f-4f59-dd75-128074fed84c"
      },
      "outputs": [
        {
          "output_type": "execute_result",
          "data": {
            "text/plain": [
              "'tmp/checkpoints/ckpt_40'"
            ],
            "application/vnd.google.colaboratory.intrinsic+json": {
              "type": "string"
            }
          },
          "metadata": {},
          "execution_count": 97
        }
      ],
      "source": [
        "tf.train.latest_checkpoint(checkpoint_dir)"
      ]
    },
    {
      "cell_type": "code",
      "execution_count": null,
      "metadata": {
        "id": "l7evN0LvH01P"
      },
      "outputs": [],
      "source": [
        "simplified_batch_size = 1\n",
        "\n",
        "model = build_model(vocab_size, embedding_dim, rnn_units, batch_size=1)\n",
        "\n",
        "model.load_weights(tf.train.latest_checkpoint(checkpoint_dir))\n",
        "\n",
        "model.build(tf.TensorShape([simplified_batch_size, None]))"
      ]
    },
    {
      "cell_type": "code",
      "execution_count": null,
      "metadata": {
        "colab": {
          "base_uri": "https://localhost:8080/"
        },
        "id": "Y3eduDtZI9zQ",
        "outputId": "ed498f64-1a2e-4535-8b88-ed12f25ba013"
      },
      "outputs": [
        {
          "output_type": "stream",
          "name": "stdout",
          "text": [
            "Model: \"sequential_5\"\n",
            "_________________________________________________________________\n",
            " Layer (type)                Output Shape              Param #   \n",
            "=================================================================\n",
            " embedding_5 (Embedding)     (1, None, 256)            16640     \n",
            "                                                                 \n",
            " lstm_3 (LSTM)               (1, None, 1024)           5246976   \n",
            "                                                                 \n",
            " dense_3 (Dense)             (1, None, 65)             66625     \n",
            "                                                                 \n",
            "=================================================================\n",
            "Total params: 5330241 (20.33 MB)\n",
            "Trainable params: 5330241 (20.33 MB)\n",
            "Non-trainable params: 0 (0.00 Byte)\n",
            "_________________________________________________________________\n"
          ]
        }
      ],
      "source": [
        "model.summary()"
      ]
    },
    {
      "cell_type": "code",
      "execution_count": null,
      "metadata": {
        "id": "bOqdqGouJFf_"
      },
      "outputs": [],
      "source": [
        "# num_generate\n",
        "# - number of characters to generate.\n",
        "#\n",
        "# temperature\n",
        "# - Low temperatures results in more predictable text.\n",
        "# - Higher temperatures results in more surprising text.\n",
        "# - Experiment to find the best setting.\n",
        "def generate_text(model, start_string, num_generate = 1000, temperature=1.0):\n",
        "    # Evaluation step (generating text using the learned model)\n",
        "\n",
        "    # Converting our start string to numbers (vectorizing).\n",
        "    input_indices = [char2index[s] for s in start_string]\n",
        "    input_indices = tf.expand_dims(input_indices, 0)\n",
        "\n",
        "    # Empty string to store our results.\n",
        "    text_generated = []\n",
        "\n",
        "    # Here batch size == 1.\n",
        "    model.reset_states()\n",
        "    for char_index in range(num_generate):\n",
        "        predictions = model(input_indices)\n",
        "        # remove the batch dimension\n",
        "        predictions = tf.squeeze(predictions, 0)\n",
        "\n",
        "        # Using a categorical distribution to predict the character returned by the model.\n",
        "        predictions = predictions / temperature\n",
        "        predicted_id = tf.random.categorical(\n",
        "        predictions,\n",
        "        num_samples=1\n",
        "        )[-1,0].numpy()\n",
        "\n",
        "        # We pass the predicted character as the next input to the model\n",
        "        # along with the previous hidden state.\n",
        "        input_indices = tf.expand_dims([predicted_id], 0)\n",
        "\n",
        "        text_generated.append(index2char[predicted_id])\n",
        "\n",
        "    return (start_string + ''.join(text_generated))"
      ]
    },
    {
      "cell_type": "code",
      "execution_count": null,
      "metadata": {
        "colab": {
          "base_uri": "https://localhost:8080/"
        },
        "id": "Z-8e8P60J5Pg",
        "outputId": "6e26bb41-9f1a-487f-c410-525c680d3bfa"
      },
      "outputs": [
        {
          "output_type": "stream",
          "name": "stdout",
          "text": [
            "ROMEO: my comfort at my life,\n",
            "My signorance have access two of his\n",
            "most father, and S:\n",
            "Ele-heart's death--\n",
            "Sufficeth the king and England's peg,\n",
            "That I, since is here told thee pardon or other way\n",
            "To this should call forthwith. What say you to not?\n",
            "\n",
            "AUTOLYCUS:\n",
            "Now, had I not the day that breathe turns of my man,\n",
            "'When thou wert down, safely, and my good speed speed;\n",
            "In all the gracious yea warnow'\n",
            "Which sixteen his driming arm up, and that we heard aside.\n",
            "\n",
            "ADORSSS:\n",
            "What, ho! Was ever father's griefs, the Earl of Wiltshire\n",
            "Shall have the current, but to rave his relievent.\n",
            "What, have I pinch'd you, Signior Gremio: If I\n",
            "\n",
            "DUKE VINCENTIO:\n",
            "The woman's valour of a smolting land.\n",
            "Most strength and daughters, on the heel\n",
            "Of the sins of his liberty or ere, like so please\n",
            "Blown with their uncle, that the Benviod state\n",
            "than queen?\n",
            "\n",
            "PETRUCHIO:\n",
            "A coward with me?\n",
            "\n",
            "PAULINA:\n",
            "It is it now, my lord.\n",
            "\n",
            "DUKE VINCENTIO:\n",
            "I know here he would have weigh'd the grace, 'Ke, no an artifuld,\n",
            "And see it is am sure of vict\n"
          ]
        }
      ],
      "source": [
        "# Generate the text with default temperature (1.0).\n",
        "print(generate_text(model, start_string=u\"ROMEO: \"))"
      ]
    },
    {
      "cell_type": "code",
      "execution_count": null,
      "metadata": {
        "colab": {
          "base_uri": "https://localhost:8080/"
        },
        "id": "wq_NlwWJSdix",
        "outputId": "aca15316-4d82-478f-b4f9-5d3e2136a9a4"
      },
      "outputs": [
        {
          "output_type": "stream",
          "name": "stdout",
          "text": [
            "ROMEO: faint George from this fool 'choo;' the\n",
            "herd our geveralty of Vincentio. Heaven keep up away;\n",
            "Him will go sleep thee: 'tis no time to play with men\n",
            "Like to his father, but\n",
            "I dare make good and hope.\n",
            "\n",
            "GREMIO:\n",
            "No roges man that did not perused\n",
            "Give signal to the prince: thy humble walk,\n",
            "mark'd facel that\n",
            "which contents from fashion, but\n",
            "Like Roman: Tuff;\n",
            "the crown,\n",
            "Whise wouldst seld--we,\n",
            "Vight runame, God, I tell you\n",
            "Where that means may wed your mistress s;\n",
            "Broke:\n",
            "Bappily, my heart to wail but storelok pen.\n",
            "Where'er Your wrong?\n",
            "\n",
            "KING RICHARD II:\n",
            "No assura doth not give injustice with his virtue from\n",
            "the miduade: they kepinking Henry's face,\n",
            "How can you learn from some other lays fain the best;\n",
            "And when I seek will play to her:\n",
            "She may, my doubt,--\n",
            "\n",
            "First Officer:\n",
            "Ith good night than gilty haste\n",
            "There'e at honesty. Sir, your voices Kind Northumber,\n",
            "What have I come, you might Surrance to my anvish word:\n",
            "The sleepy cry our humour from this?\n",
            "No;\n",
            "I must have liege.\n",
            "\n",
            "KING RICHARD II:\n",
            "No; mu\n"
          ]
        }
      ],
      "source": [
        "# Generate the text with higher temperature to get more unexpected results.\n",
        "print(generate_text(model, start_string=u\"ROMEO: \", temperature=1.5))"
      ]
    },
    {
      "cell_type": "markdown",
      "metadata": {
        "id": "0hh80MqEO_XI"
      },
      "source": [
        "## Save the model"
      ]
    },
    {
      "cell_type": "code",
      "execution_count": null,
      "metadata": {
        "id": "VPE98xa8PA-u",
        "colab": {
          "base_uri": "https://localhost:8080/"
        },
        "outputId": "89d3d46e-9614-4d1d-9176-664ebfbb5b04"
      },
      "outputs": [
        {
          "output_type": "stream",
          "name": "stderr",
          "text": [
            "/usr/local/lib/python3.10/dist-packages/keras/src/engine/training.py:3103: UserWarning: You are saving your model as an HDF5 file via `model.save()`. This file format is considered legacy. We recommend using instead the native Keras format, e.g. `model.save('my_model.keras')`.\n",
            "  saving_api.save_model(\n",
            "WARNING:tensorflow:Compiled the loaded model, but the compiled metrics have yet to be built. `model.compile_metrics` will be empty until you train or evaluate the model.\n"
          ]
        }
      ],
      "source": [
        "model_name = 'text_generation_shakespeare_rnn.h5'\n",
        "model.save(model_name, save_format='h5')"
      ]
    },
    {
      "cell_type": "code",
      "source": [
        "def perplexity(text, model):\n",
        "    # Converting text to integers\n",
        "    text_as_int = np.array([char2index[char] for char in text])\n",
        "\n",
        "    # Converting to dataset\n",
        "    input_eval = tf.expand_dims(text_as_int[:-1], 0)\n",
        "    target = text_as_int[1:]\n",
        "\n",
        "    # Empty string to store results\n",
        "    text_generated = []\n",
        "\n",
        "    # Model reset\n",
        "    model.reset_states()\n",
        "\n",
        "    # Get predictions\n",
        "    predictions = model(input_eval)\n",
        "    predictions = tf.squeeze(predictions, 0)\n",
        "\n",
        "    # Compute perplexity\n",
        "    cross_entropy = tf.keras.losses.sparse_categorical_crossentropy(target, predictions, from_logits=True)\n",
        "    perplexity = 2 ** (np.mean(cross_entropy))\n",
        "\n",
        "    return perplexity\n",
        "\n",
        "# Generate some text using your model\n",
        "generated_text = generate_text(model, start_string=u\"ROMEO: \", num_generate=1000)\n",
        "\n",
        "# Evaluate the perplexity of the generated text\n",
        "perplexity_score = perplexity(generated_text, model)\n",
        "print(\"Perplexity of the generated text:\", perplexity_score)\n"
      ],
      "metadata": {
        "id": "6LjGtLqoH598",
        "colab": {
          "base_uri": "https://localhost:8080/"
        },
        "outputId": "e9680e0b-f3ba-41a0-a85d-1cdcd70bc296"
      },
      "execution_count": null,
      "outputs": [
        {
          "output_type": "stream",
          "name": "stdout",
          "text": [
            "Perplexity of the generated text: 1.6049540048637365\n"
          ]
        }
      ]
    },
    {
      "cell_type": "code",
      "source": [
        "def render_training_history(training_history):\n",
        "    loss = training_history.history['loss']\n",
        "    accuracy = training_history.history['acc']\n",
        "\n",
        "    epochs = range(len(loss))\n",
        "\n",
        "    plt.figure(figsize=(12, 6))\n",
        "\n",
        "    plt.subplot(1, 2, 1)\n",
        "    plt.plot(epochs, loss, 'r', label='Training loss')\n",
        "    plt.title('Training Loss')\n",
        "    plt.xlabel('Epoch')\n",
        "    plt.ylabel('Loss')\n",
        "    plt.legend()\n",
        "\n",
        "    plt.subplot(1, 2, 2)\n",
        "    plt.plot(epochs, accuracy, 'b', label='Training accuracy')\n",
        "    plt.title('Training Accuracy')\n",
        "    plt.xlabel('Epoch')\n",
        "    plt.ylabel('Accuracy')\n",
        "    plt.legend()\n",
        "\n",
        "    plt.show()\n",
        "\n",
        "render_training_history(history)\n"
      ],
      "metadata": {
        "colab": {
          "base_uri": "https://localhost:8080/",
          "height": 564
        },
        "id": "YbIlG0Czx4Wp",
        "outputId": "4b788d9c-c1b7-446b-e960-b5fff8380f7a"
      },
      "execution_count": null,
      "outputs": [
        {
          "output_type": "display_data",
          "data": {
            "text/plain": [
              "<Figure size 1200x600 with 2 Axes>"
            ],
            "image/png": "[encoded data removed]"
          },
          "metadata": {}
        }
      ]
    },
    {
      "cell_type": "code",
      "source": [],
      "metadata": {
        "id": "OH7knIt5--P0"
      },
      "execution_count": null,
      "outputs": []
    },
    {
      "cell_type": "code",
      "source": [
        "import matplotlib.pyplot as plt\n",
        "\n",
        "def plot_generated_text(text):\n",
        "    plt.figure(figsize=(10, 5))\n",
        "    plt.plot(text, marker='o', linestyle='-', color='b')\n",
        "    plt.title('Generated Text')\n",
        "    plt.xlabel('Character Index')\n",
        "    plt.ylabel('Character')\n",
        "    plt.show()\n",
        "\n",
        "generated_text = generate_text(model, start_string=u\"ROMEO: \")\n",
        "plot_generated_text(generated_text)\n"
      ],
      "metadata": {
        "colab": {
          "base_uri": "https://localhost:8080/",
          "height": 382
        },
        "id": "Xvtvgjw5_j9x",
        "outputId": "4dec0841-bf57-43b6-e616-b8b1368506b6"
      },
      "execution_count": null,
      "outputs": [
        {
          "output_type": "display_data",
          "data": {
            "text/plain": [
              "<Figure size 1000x500 with 1 Axes>"
            ],
            "image/png": "[encoded data removed]"
          },
          "metadata": {}
        }
      ]
    },
    {
      "cell_type": "code",
      "source": [
        "def generate_text(model, start_string, num_generate=1000, temperature=1.0):\n",
        "    # Evaluation step (generating text using the learned model)\n",
        "    # Converting our start string to numbers (vectorizing).\n",
        "    input_indices = [char2index[s] for s in start_string]\n",
        "    input_indices = tf.expand_dims(input_indices, 0)\n",
        "\n",
        "    # Empty string to store our results.\n",
        "    text_generated = []\n",
        "\n",
        "    # Here batch size == 1.\n",
        "    model.reset_states()\n",
        "    for char_index in range(num_generate):\n",
        "        predictions = model(input_indices)\n",
        "        # remove the batch dimension\n",
        "        predictions = tf.squeeze(predictions, 0)\n",
        "\n",
        "        # Using a categorical distribution to predict the character returned by the model.\n",
        "        predictions = predictions / temperature\n",
        "        predicted_id = tf.random.categorical(\n",
        "            predictions,\n",
        "            num_samples=1\n",
        "        )[-1, 0].numpy()\n",
        "\n",
        "        # We pass the predicted character as the next input to the model\n",
        "        # along with the previous hidden state.\n",
        "        input_indices = tf.expand_dims([predicted_id], 0)\n",
        "\n",
        "        text_generated.append(index2char[predicted_id])\n",
        "\n",
        "    return (start_string + ''.join(text_generated))\n"
      ],
      "metadata": {
        "id": "k82LyRz6AGuw"
      },
      "execution_count": null,
      "outputs": []
    },
    {
      "cell_type": "code",
      "source": [
        "# Generate the text with default temperature (1.0).\n",
        "print(generate_text(model, start_string=u\"ROMEO: \"))\n",
        "\n"
      ],
      "metadata": {
        "colab": {
          "base_uri": "https://localhost:8080/"
        },
        "id": "lcRnmLgOAZTX",
        "outputId": "e155684a-3e1e-4e1d-c95e-a11baf0456ef"
      },
      "execution_count": null,
      "outputs": [
        {
          "output_type": "stream",
          "name": "stdout",
          "text": [
            "ROMEO: VINCENTIO:\n",
            "Away filly Citizen:\n",
            "Why 'love's like an asse this tireful shop,\n",
            "As may be holy as secret musty powerful wind.\n",
            "\n",
            "HORTENSIO:\n",
            "Who, ay she be contented? The gone I have,\n",
            "Though thou wilt say 's, to yours:\n",
            "Thither away; let's hear a little present\n",
            "My very nature best becomes my greeting:\n",
            "it is too dear a scarce, to tunor so baddle; wherein ed them\n",
            "not from death, with that were they were an age and virtuous\n",
            "Marchastisement will cast upon thee, mark me.\n",
            "\n",
            "HASTINGS:\n",
            "Good faith, I'll keep him take our letters that three mairs ght whose suit deep as thou canst ducky your talk,\n",
            "And with thy scouts: himself! when did scarcel of my free,\n",
            "And will once in sacrament with I speak: do not say, here comes she say,\n",
            "Both festing Warwick stand you from deserving\n",
            "At Cheery Pompey, guardly or better than our pawer.\n",
            "Lord Angelo is calm, and lose not what my teeth, my lord.\n",
            "\n",
            "KING HENRY VI:\n",
            "I will accop a VINCENTIO:\n",
            "Let me swear soft love in reverend from the French to play me: this is a measure\n",
            "of ou\n"
          ]
        }
      ]
    },
    {
      "cell_type": "code",
      "source": [
        "# Generate the text with higher temperature to get more unexpected results.\n",
        "print(generate_text(model, start_string=u\"ROMEO: \", temperature=1.5))"
      ],
      "metadata": {
        "colab": {
          "base_uri": "https://localhost:8080/"
        },
        "id": "Ognlnet_A8zI",
        "outputId": "9639f6ba-08da-4ecf-c9f4-e239d86de788"
      },
      "execution_count": null,
      "outputs": [
        {
          "output_type": "stream",
          "name": "stdout",
          "text": [
            "ROMEO: he's dead,' testymat:\n",
            "Under war shall meet again,\n",
            "To put abstly suit at Duchmonyour reason\n",
            "With all his lanks and scars that your steed gross,\n",
            "Laugh'd with me; having not so good night on Tower.\n",
            "\n",
            "ARCHBISHOPan:\n",
            "What parmoor is call'd E report of love.\n",
            "Who sensibly outward Malian excepts you, sir, me;\n",
            "For they say and no less creation gentlewomenger, though I have:\n",
            "I oming his heel, but base merriquich i' the morning\n",
            "And give it iracting whistly.\n",
            "More light, throw valour'st knightly Kate?\n",
            "You are the sur.\n",
            "\n",
            "MENENIUS:\n",
            "One i' the neck.\n",
            "\n",
            "COMINIUS:\n",
            "Well, on travomious.\n",
            "You must toll us but upon e\n",
            "would sir, if ever throat hath kept y time that he hath some power, knich in a fear\n",
            "And none can take that profit\n",
            "dry sovereign. But juck\n",
            "bring twive water: though\n",
            "'vike no man not remove: I had rather die.\n",
            "\n",
            "ISABELLA:\n",
            "In such a command.\n",
            "\n",
            "ALONSO:\n",
            "Sons, u, with.\n",
            "\n",
            "Third Citizen:\n",
            "We are accompatained with t, theysat Was worth the dine! wishing clock?\n",
            "Away those\n",
            "save but justified. How you pursuaday?\n",
            "Forb\n"
          ]
        }
      ]
    },
    {
      "cell_type": "code",
      "source": [
        "pip install nltk"
      ],
      "metadata": {
        "colab": {
          "base_uri": "https://localhost:8080/"
        },
        "id": "TpYfRgk9BAoM",
        "outputId": "ddb46416-c563-4280-93bb-a4044422bd4e"
      },
      "execution_count": null,
      "outputs": [
        {
          "output_type": "stream",
          "name": "stdout",
          "text": [
            "Requirement already satisfied: nltk in /usr/local/lib/python3.10/dist-packages (3.8.1)\n",
            "Requirement already satisfied: click in /usr/local/lib/python3.10/dist-packages (from nltk) (8.1.7)\n",
            "Requirement already satisfied: joblib in /usr/local/lib/python3.10/dist-packages (from nltk) (1.4.0)\n",
            "Requirement already satisfied: regex>=2021.8.3 in /usr/local/lib/python3.10/dist-packages (from nltk) (2023.12.25)\n",
            "Requirement already satisfied: tqdm in /usr/local/lib/python3.10/dist-packages (from nltk) (4.66.2)\n"
          ]
        }
      ]
    }
  ],
  "metadata": {
    "accelerator": "GPU",
    "colab": {
      "provenance": []
    },
    "kernelspec": {
      "display_name": "Python 3",
      "language": "python",
      "name": "python3"
    },
    "language_info": {
      "codemirror_mode": {
        "name": "ipython",
        "version": 3
      },
      "file_extension": ".py",
      "mimetype": "text/x-python",
      "name": "python",
      "nbconvert_exporter": "python",
      "pygments_lexer": "ipython3",
      "version": "3.7.6"
    }
  },
  "nbformat": 4,
  "nbformat_minor": 0
}